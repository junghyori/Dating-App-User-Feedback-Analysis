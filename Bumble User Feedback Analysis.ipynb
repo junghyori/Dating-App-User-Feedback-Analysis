{
 "cells": [
  {
   "cell_type": "markdown",
   "id": "31b766d3",
   "metadata": {},
   "source": [
    "## Summary on the Method and Output"
   ]
  },
  {
   "cell_type": "markdown",
   "id": "d73e7aca",
   "metadata": {},
   "source": [
    "The topic modelling analysis identified 10 topics in a dataset of user feedback or reviews about a dating app. This can help the product team prioritize and address specific user concerns or pain points in order to improve the user experience and drive engagement on the platform. Each topic represents a common theme or issue that users have with the app, such as technical issues, dating experience, user interface, security, and account management.\n",
    "\n",
    "These results suggest that the app's user experience may be a critical area for improvement, with specific focus on messaging functionality, swiping and user interface, and addressing user concerns related to privacy and account management. Additionally, the analysis highlights the importance of addressing concerns related to fraudulent activity and security, as well as optimizing the app's technical performance to ensure a smooth user experience.\n",
    "\n",
    "Overall, the results of the topic modelling can provide valuable insights for the product team, helping them to identify areas for improvement and optimize the app's design and functionality to better meet user needs and preferences."
   ]
  },
  {
   "cell_type": "markdown",
   "id": "bff62f49",
   "metadata": {},
   "source": [
    "## Data Preprocessing"
   ]
  },
  {
   "cell_type": "code",
   "execution_count": 1,
   "id": "af077966",
   "metadata": {},
   "outputs": [
    {
     "name": "stderr",
     "output_type": "stream",
     "text": [
      "[nltk_data] Downloading package vader_lexicon to\n",
      "[nltk_data]     /Users/ijeonghyeon/nltk_data...\n",
      "[nltk_data]   Package vader_lexicon is already up-to-date!\n",
      "[nltk_data] Downloading package stopwords to\n",
      "[nltk_data]     /Users/ijeonghyeon/nltk_data...\n",
      "[nltk_data]   Package stopwords is already up-to-date!\n",
      "[nltk_data] Downloading package wordnet to\n",
      "[nltk_data]     /Users/ijeonghyeon/nltk_data...\n",
      "[nltk_data]   Package wordnet is already up-to-date!\n",
      "[nltk_data] Downloading package punkt to\n",
      "[nltk_data]     /Users/ijeonghyeon/nltk_data...\n",
      "[nltk_data]   Package punkt is already up-to-date!\n"
     ]
    },
    {
     "data": {
      "text/plain": [
       "True"
      ]
     },
     "execution_count": 1,
     "metadata": {},
     "output_type": "execute_result"
    }
   ],
   "source": [
    "import pandas as pd\n",
    "import numpy as np\n",
    "import matplotlib.pyplot as plt\n",
    "import seaborn as sns\n",
    "import nltk\n",
    "from nltk.tokenize import word_tokenize\n",
    "from nltk.corpus import stopwords\n",
    "from nltk.stem import WordNetLemmatizer\n",
    "import string\n",
    "import re\n",
    "import contractions\n",
    "from sklearn.feature_extraction.text import TfidfVectorizer\n",
    "from textblob import TextBlob\n",
    "import requests, time\n",
    "from nltk.sentiment import SentimentIntensityAnalyzer\n",
    "\n",
    "\n",
    "nltk.download('vader_lexicon')\n",
    "nltk.download(\"stopwords\")\n",
    "nltk.download(\"wordnet\")\n",
    "nltk.download('punkt')"
   ]
  },
  {
   "cell_type": "code",
   "execution_count": 2,
   "id": "126ac031",
   "metadata": {},
   "outputs": [],
   "source": [
    "df = pd.read_csv(\"bumble_google_play_reviews.csv\")"
   ]
  },
  {
   "cell_type": "code",
   "execution_count": 3,
   "id": "5ba425df",
   "metadata": {
    "scrolled": true
   },
   "outputs": [
    {
     "name": "stdout",
     "output_type": "stream",
     "text": [
      "<class 'pandas.core.frame.DataFrame'>\n",
      "RangeIndex: 126724 entries, 0 to 126723\n",
      "Data columns (total 10 columns):\n",
      " #   Column                Non-Null Count   Dtype \n",
      "---  ------                --------------   ----- \n",
      " 0   reviewId              126724 non-null  object\n",
      " 1   userName              126724 non-null  object\n",
      " 2   userImage             126724 non-null  object\n",
      " 3   content               126715 non-null  object\n",
      " 4   score                 126724 non-null  int64 \n",
      " 5   thumbsUpCount         126724 non-null  int64 \n",
      " 6   reviewCreatedVersion  105867 non-null  object\n",
      " 7   at                    126724 non-null  object\n",
      " 8   replyContent          82340 non-null   object\n",
      " 9   repliedAt             82340 non-null   object\n",
      "dtypes: int64(2), object(8)\n",
      "memory usage: 9.7+ MB\n"
     ]
    }
   ],
   "source": [
    "df.info()"
   ]
  },
  {
   "cell_type": "code",
   "execution_count": 4,
   "id": "fb455c9c",
   "metadata": {},
   "outputs": [
    {
     "name": "stdout",
     "output_type": "stream",
     "text": [
      "0\n"
     ]
    }
   ],
   "source": [
    "print(df.duplicated().sum())"
   ]
  },
  {
   "cell_type": "code",
   "execution_count": 5,
   "id": "4d9917c7",
   "metadata": {},
   "outputs": [
    {
     "name": "stdout",
     "output_type": "stream",
     "text": [
      "reviewId                    0\n",
      "userName                    0\n",
      "userImage                   0\n",
      "content                     9\n",
      "score                       0\n",
      "thumbsUpCount               0\n",
      "reviewCreatedVersion    20857\n",
      "at                          0\n",
      "replyContent            44384\n",
      "repliedAt               44384\n",
      "dtype: int64\n"
     ]
    }
   ],
   "source": [
    "print(df.isnull().sum())"
   ]
  },
  {
   "cell_type": "code",
   "execution_count": 6,
   "id": "5c49873b",
   "metadata": {},
   "outputs": [
    {
     "data": {
      "text/plain": [
       "0                                                Great\n",
       "1                                    Why am i blocked?\n",
       "2                                            good work\n",
       "3                                              cool ap\n",
       "4                                                  Wow\n",
       "5    I've been on it for a day and let me tell you ...\n",
       "6                                              Useless\n",
       "7    I am serious about dating, but even when Bumbl...\n",
       "8    Just rating for the most godawful ads you have...\n",
       "9    20 people like me apparently. been a week of d...\n",
       "Name: content, dtype: object"
      ]
     },
     "execution_count": 6,
     "metadata": {},
     "output_type": "execute_result"
    }
   ],
   "source": [
    "text = df[\"content\"]\n",
    "\n",
    "text[:10]"
   ]
  },
  {
   "cell_type": "code",
   "execution_count": 7,
   "id": "10ca8179",
   "metadata": {},
   "outputs": [],
   "source": [
    "# Define a list of negation cues\n",
    "negation_cues = [\"not\", \"n't\", \"never\", \"no\", \"none\", \"neither\", \"nor\"]\n",
    "\n",
    "def text_preprocessing(text):\n",
    "    # Convert to lowercase\n",
    "    text = str(text)\n",
    "    text = text.lower()\n",
    "    # Remove punctuation\n",
    "    text = text.translate(str.maketrans(\"\", \"\", string.punctuation))\n",
    "    # Tokenize the text\n",
    "    text_tokens = nltk.word_tokenize(text)\n",
    "    # Handle negation cues\n",
    "    negated = False\n",
    "    for i, token in enumerate(text_tokens):\n",
    "        if token.lower() in negation_cues:\n",
    "            negated = True\n",
    "        elif negated:\n",
    "            text_tokens[i] = \"NOT_\" + token\n",
    "            negated = False\n",
    "    # Remove stop words\n",
    "    stop_words = set(stopwords.words('english'))\n",
    "    filtered_text = [word for word in text_tokens if not word in stop_words]\n",
    "    # Join the filtered words back into a string\n",
    "    text = ' '.join(filtered_text)\n",
    "    # Replace contractions with their expanded form\n",
    "    text = contractions.fix(text)\n",
    "    return text\n",
    "\n",
    "processed_text = []\n",
    "for text in text:\n",
    "    result = text_preprocessing(text)\n",
    "    processed_text.append(result)\n",
    "    \n",
    "processed_text = pd.Series(processed_text)\n",
    "\n",
    "lemmatizer = WordNetLemmatizer()\n",
    "\n",
    "# Define a function that takes a sentence as input and returns a list of lemmas\n",
    "def lemmatize_nltk(sentence):\n",
    "    tokens = nltk.word_tokenize(sentence)\n",
    "    # Perform part-of-speech tagging on the tokens \n",
    "    pos_tags = nltk.pos_tag(tokens)\n",
    "    lemmas = []\n",
    "    for token, tag in pos_tags:\n",
    "        # Map the POS tag to the corresponding WordNet POS tag\n",
    "        tag = get_wordnet_pos(tag)\n",
    "        if tag:\n",
    "            lemma = lemmatizer.lemmatize(token, tag)\n",
    "        else:\n",
    "            lemma = lemmatizer.lemmatize(token)\n",
    "        lemmas.append(lemma)\n",
    "    return lemmas\n",
    "\n",
    "# Define a function that maps NLTK POS tags to WordNet POS tags\n",
    "def get_wordnet_pos(tag):\n",
    "    if tag.startswith('N'):\n",
    "        return 'n'\n",
    "    elif tag.startswith('V'):\n",
    "        return 'v'\n",
    "    elif tag.startswith('J'):\n",
    "        return 'a'\n",
    "    elif tag.startswith('R'):\n",
    "        return 'r'\n",
    "    else:\n",
    "        return None\n",
    "\n",
    "lemmatized_words = []\n",
    "for sentence in processed_text:\n",
    "    lemmas = lemmatize_nltk(sentence)\n",
    "    lemmatized_words.append(lemmas)\n",
    "    \n",
    "# Convert the list of lemmatized words to a Series\n",
    "lemmatised_text = pd.Series(lemmatized_words)\n",
    "\n",
    "lemmatised_text.head()\n",
    "\n",
    "lemmatised_corpus = []\n",
    "\n",
    "for doc in lemmatised_text:\n",
    "    sentence = \" \".join(doc)\n",
    "    lemmatised_corpus.append(sentence)"
   ]
  },
  {
   "cell_type": "code",
   "execution_count": 8,
   "id": "71850a18",
   "metadata": {},
   "outputs": [],
   "source": [
    "reviews = lemmatised_corpus"
   ]
  },
  {
   "cell_type": "markdown",
   "id": "53971e73",
   "metadata": {},
   "source": [
    "## Topic Modelling"
   ]
  },
  {
   "cell_type": "code",
   "execution_count": 9,
   "id": "24a327db",
   "metadata": {},
   "outputs": [],
   "source": [
    "from gensim.corpora import Dictionary\n",
    "\n",
    "tokenized_corpus = [nltk.word_tokenize(doc) for doc in lemmatised_corpus]\n",
    "dictionary = Dictionary(tokenized_corpus)\n",
    "dictionary.filter_extremes(no_below=2, no_above=0.5)"
   ]
  },
  {
   "cell_type": "code",
   "execution_count": 10,
   "id": "91960d4d",
   "metadata": {
    "scrolled": true
   },
   "outputs": [
    {
     "name": "stdout",
     "output_type": "stream",
     "text": [
      "Topic: 1 \n",
      "Words: 0.141*\"app\" + 0.122*\"not\" + 0.068*\"do\" + 0.040*\"message\" + 0.036*\"time\" + 0.032*\"work\" + 0.031*\"make\" + 0.030*\"first\" + 0.024*\"guy\" + 0.023*\"girl\"\n",
      "Topic: 2 \n",
      "Words: 0.105*\"woman\" + 0.073*\"great\" + 0.069*\"tinder\" + 0.053*\"well\" + 0.053*\"date\" + 0.040*\"concept\" + 0.038*\"love\" + 0.032*\"apps\" + 0.031*\"easy\" + 0.029*\"men\"\n",
      "Topic: 3 \n",
      "Words: 0.129*\"swipe\" + 0.064*\"right\" + 0.048*\"day\" + 0.038*\"show\" + 0.036*\"pretty\" + 0.036*\"much\" + 0.026*\"leave\" + 0.025*\"yet\" + 0.019*\"android\" + 0.018*\"already\"\n",
      "Topic: 4 \n",
      "Words: 0.051*\"would\" + 0.037*\"keep\" + 0.035*\"give\" + 0.028*\"every\" + 0.026*\"connection\" + 0.026*\"hour\" + 0.025*\"fix\" + 0.024*\"actually\" + 0.024*\"let\" + 0.022*\"thing\"\n",
      "Topic: 5 \n",
      "Words: 0.171*\"profile\" + 0.089*\"fake\" + 0.071*\"lot\" + 0.043*\"could\" + 0.041*\"picture\" + 0.039*\"sign\" + 0.038*\"though\" + 0.025*\"fun\" + 0.024*\"best\" + 0.020*\"location\"\n",
      "Topic: 6 \n",
      "Words: 0.107*\"account\" + 0.105*\"back\" + 0.056*\"delete\" + 0.041*\"bad\" + 0.040*\"change\" + 0.036*\"NOT_a\" + 0.034*\"anything\" + 0.034*\"photo\" + 0.033*\"email\" + 0.030*\"ask\"\n",
      "Topic: 7 \n",
      "Words: 0.202*\"like\" + 0.091*\"facebook\" + 0.061*\"see\" + 0.042*\"also\" + 0.032*\"take\" + 0.031*\"pay\" + 0.029*\"week\" + 0.026*\"backtrack\" + 0.023*\"feature\" + 0.016*\"bug\"\n",
      "Topic: 8 \n",
      "Words: 0.071*\"match\" + 0.068*\"be\" + 0.060*\"get\" + 0.056*\"i\" + 0.046*\"people\" + 0.045*\"use\" + 0.034*\"have\" + 0.024*\"go\" + 0.021*\"one\" + 0.021*\"bumble\"\n",
      "Topic: 9 \n",
      "Words: 0.171*\"good\" + 0.048*\"user\" + 0.041*\"notification\" + 0.035*\"maybe\" + 0.029*\"attractive\" + 0.028*\"contact\" + 0.027*\"tell\" + 0.025*\"5\" + 0.024*\"star\" + 0.023*\"wish\"\n",
      "Topic: 10 \n",
      "Words: 0.063*\"nice\" + 0.052*\"update\" + 0.051*\"nothing\" + 0.043*\"issue\" + 0.040*\"reply\" + 0.026*\"fb\" + 0.024*\"model\" + 0.023*\"last\" + 0.023*\"review\" + 0.023*\"enough\"\n"
     ]
    }
   ],
   "source": [
    "from gensim.models import LdaModel\n",
    "\n",
    "# create a bag of words corpus\n",
    "bow_corpus = [dictionary.doc2bow(doc) for doc in tokenized_corpus]\n",
    "\n",
    "# build the LDA model with 5 topics\n",
    "num_topics = 10\n",
    "lda_model = LdaModel(corpus=bow_corpus,\n",
    "                     id2word=dictionary,\n",
    "                     num_topics=num_topics,\n",
    "                     random_state=42,\n",
    "                     update_every=1,\n",
    "                     chunksize=100,\n",
    "                     passes=10,\n",
    "                     alpha='auto',\n",
    "                     per_word_topics=True)\n",
    "\n",
    "# print the topics and their top 10 keywords\n",
    "for idx, topic in lda_model.print_topics(-1):\n",
    "    print('Topic: {} \\nWords: {}'.format(idx+1, topic))"
   ]
  },
  {
   "cell_type": "code",
   "execution_count": 11,
   "id": "732d66d2",
   "metadata": {},
   "outputs": [
    {
     "name": "stderr",
     "output_type": "stream",
     "text": [
      "/Users/ijeonghyeon/opt/anaconda3/envs/tf/lib/python3.7/site-packages/pyLDAvis/_prepare.py:247: FutureWarning: In a future version of pandas all arguments of DataFrame.drop except for the argument 'labels' will be keyword-only\n",
      "  by='saliency', ascending=False).head(R).drop('saliency', 1)\n"
     ]
    },
    {
     "data": {
      "text/html": [
       "\n",
       "<link rel=\"stylesheet\" type=\"text/css\" href=\"https://cdn.jsdelivr.net/gh/bmabey/pyLDAvis@3.3.1/pyLDAvis/js/ldavis.v1.0.0.css\">\n",
       "\n",
       "\n",
       "<div id=\"ldavis_el428771406520334330401557456008\"></div>\n",
       "<script type=\"text/javascript\">\n",
       "\n",
       "var ldavis_el428771406520334330401557456008_data = {\"mdsDat\": {\"x\": [0.2850395493225913, 0.3220707625628367, -0.017896582549245404, -0.030996179339703715, -0.06513776054006253, -0.07619712935136479, -0.09343444078445275, -0.09742775673418616, -0.11137167407314058, -0.11464878851327241], \"y\": [-0.36031070124789055, 0.3275055876398676, -0.00848073858614701, 0.011860436015848127, 0.009779321194937093, 0.004854634835897581, 0.0028325370026199576, 0.0037629320686884695, 0.005041269790055489, 0.0031547212861235646], \"topics\": [1, 2, 3, 4, 5, 6, 7, 8, 9, 10], \"cluster\": [1, 1, 1, 1, 1, 1, 1, 1, 1, 1], \"Freq\": [23.782538069103865, 23.01277941016818, 9.409615064133579, 9.34608355903262, 8.518226281254835, 6.62130782988898, 5.549668943378714, 5.115497207867441, 4.372139573996743, 4.2721440611750445]}, \"tinfo\": {\"Term\": [\"app\", \"like\", \"not\", \"good\", \"profile\", \"match\", \"be\", \"woman\", \"swipe\", \"do\", \"get\", \"i\", \"facebook\", \"great\", \"people\", \"tinder\", \"use\", \"account\", \"back\", \"message\", \"fake\", \"see\", \"time\", \"well\", \"date\", \"have\", \"right\", \"would\", \"work\", \"lot\", \"match\", \"be\", \"get\", \"i\", \"people\", \"use\", \"have\", \"go\", \"one\", \"bumble\", \"seem\", \"look\", \"conversation\", \"way\", \"never\", \"think\", \"many\", \"need\", \"meet\", \"still\", \"someone\", \"find\", \"you\", \"new\", \"month\", \"site\", \"something\", \"that\", \"NOT_one\", \"since\", \"app\", \"not\", \"do\", \"message\", \"time\", \"work\", \"make\", \"first\", \"guy\", \"girl\", \"say\", \"even\", \"can\", \"try\", \"really\", \"want\", \"idea\", \"know\", \"will\", \"start\", \"move\", \"talk\", \"waste\", \"load\", \"respond\", \"send\", \"come\", \"problem\", \"phone\", \"log\", \"woman\", \"great\", \"tinder\", \"well\", \"date\", \"concept\", \"love\", \"apps\", \"easy\", \"men\", \"far\", \"less\", \"quality\", \"feel\", \"everyone\", \"however\", \"open\", \"initiate\", \"interest\", \"bit\", \"simple\", \"female\", \"beautiful\", \"completely\", \"believe\", \"type\", \"NOT_get\", \"city\", \"design\", \"selection\", \"would\", \"keep\", \"give\", \"every\", \"connection\", \"hour\", \"fix\", \"actually\", \"let\", \"thing\", \"2\", \"24\", \"real\", \"person\", \"cool\", \"option\", \"please\", \"screen\", \"u\", \"without\", \"least\", \"1\", \"either\", \"chat\", \"expire\", \"two\", \"connect\", \"little\", \"happen\", \"disappear\", \"like\", \"facebook\", \"see\", \"also\", \"take\", \"pay\", \"week\", \"backtrack\", \"feature\", \"bug\", \"set\", \"they\", \"require\", \"money\", \"within\", \"free\", \"different\", \"else\", \"must\", \"bot\", \"boost\", \"full\", \"amount\", \"life\", \"version\", \"overall\", \"save\", \"subscription\", \"charge\", \"forever\", \"swipe\", \"right\", \"day\", \"show\", \"pretty\", \"much\", \"leave\", \"yet\", \"android\", \"already\", \"away\", \"live\", \"sometimes\", \"limit\", \"force\", \"id\", \"interface\", \"10\", \"hard\", \"mean\", \"useless\", \"interested\", \"appear\", \"4\", \"soon\", \"galaxy\", \"buggy\", \"miss\", \"distance\", \"frustrate\", \"good\", \"user\", \"notification\", \"maybe\", \"attractive\", \"contact\", \"tell\", \"5\", \"star\", \"wish\", \"put\", \"pop\", \"sure\", \"ill\", \"awesome\", \"experience\", \"almost\", \"decent\", \"finally\", \"minute\", \"online\", \"what\", \"enjoy\", \"network\", \"click\", \"three\", \"luck\", \"smooth\", \"NOT_enough\", \"suppose\", \"profile\", \"fake\", \"lot\", \"could\", \"picture\", \"sign\", \"though\", \"fun\", \"best\", \"location\", \"pic\", \"run\", \"uninstalled\", \"constantly\", \"probably\", \"view\", \"except\", \"data\", \"decide\", \"control\", \"rather\", \"slow\", \"late\", \"friendly\", \"image\", \"relationship\", \"absolutely\", \"short\", \"fill\", \"bore\", \"nice\", \"update\", \"nothing\", \"issue\", \"reply\", \"fb\", \"model\", \"last\", \"review\", \"enough\", \"NOT_matches\", \"crash\", \"hot\", \"check\", \"mile\", \"login\", \"function\", \"age\", \"page\", \"spam\", \"big\", \"instal\", \"close\", \"developer\", \"next\", \"100\", \"fail\", \"total\", \"50\", \"simply\", \"account\", \"back\", \"delete\", \"bad\", \"change\", \"NOT_a\", \"anything\", \"photo\", \"email\", \"ask\", \"info\", \"otherwise\", \"upload\", \"basically\", \"everything\", \"information\", \"game\", \"NOT_response\", \"apparently\", \"na\", \"because\", \"track\", \"worth\", \"extremely\", \"access\", \"hand\", \"restart\", \"name\", \"freeze\", \"NOT_had\"], \"Freq\": [53186.0, 28254.0, 46006.0, 15569.0, 14357.0, 27919.0, 26728.0, 16190.0, 14025.0, 25535.0, 23323.0, 22055.0, 12673.0, 11356.0, 18019.0, 10727.0, 17395.0, 7532.0, 7354.0, 15271.0, 7452.0, 8497.0, 13797.0, 8265.0, 8161.0, 13315.0, 6992.0, 7891.0, 12243.0, 5930.0, 27918.29282925099, 26728.022870600977, 23322.37518912746, 22054.840606596015, 18018.686113068077, 17394.73082642887, 13314.957234452213, 9226.429110236098, 8233.741280648925, 8201.33881291552, 7858.794904775485, 7403.523566832324, 6814.084237129564, 6102.598183806548, 6092.745423189891, 5731.5163491411495, 5669.476998719642, 5157.292831686319, 4523.570663123967, 4509.833711089736, 4343.864038558548, 4131.732021015269, 4131.445637405973, 3745.7647887363014, 3622.383306438918, 3369.3417360057783, 3285.4586304396144, 2918.892159199825, 2914.5228987210166, 2896.611732732226, 53185.21905644299, 46005.13034246667, 25534.417180597058, 15270.770286856941, 13796.535973737362, 12242.213849867227, 11779.373008359831, 11517.46507834676, 9174.669851951303, 8743.782021568955, 8512.800335876438, 7758.428144855935, 7755.9901018674855, 7040.628711351071, 6252.771809754372, 5884.862883310654, 4950.820586096304, 4876.494782200601, 4753.422555243379, 4206.838951191653, 3894.671208636366, 3877.243637915639, 3569.8216988551985, 3510.836129048863, 3387.1114333369337, 3341.192140135939, 2752.2630322118243, 2486.423388159321, 2344.486081743599, 1946.2445765597038, 16189.418436563055, 11355.338075851874, 10726.306700351823, 8264.168943276576, 8160.690656478745, 6136.375110740161, 5876.242235310892, 4994.725360400116, 4764.303453604389, 4494.526268927843, 3102.7357960021, 2338.958219437258, 2328.529390423337, 2191.2234578608122, 2074.1958279322985, 1904.3322530665514, 1780.2625180130447, 1636.7704116914097, 1616.7146944050273, 1195.102556158208, 1174.592597751664, 1134.5494073281725, 1061.2735478211494, 953.5964461555411, 950.4549836765015, 925.77342167689, 918.1567843205165, 905.684446165862, 879.7705301668766, 780.7373274717004, 7891.06548866304, 5728.952391224727, 5371.824924010564, 4365.431054280492, 4021.7510090101837, 3980.3307872190676, 3899.943415609536, 3704.7395770189305, 3628.670607381627, 3443.817033641209, 3149.785025774777, 3148.158796646087, 3095.8486170104397, 3083.4639927173444, 2938.8033897671266, 2861.2040029529644, 2577.530554105684, 2361.0819167271384, 2284.3136628443817, 2218.9423121333816, 2062.1677894047198, 2052.065920614727, 2035.5273476995608, 1853.7087247855754, 1709.1977028825445, 1708.9650371427995, 1679.0212281431682, 1645.9290670069522, 1567.162776421236, 1510.9411811042721, 28253.786170405026, 12673.01791258926, 8496.87303905596, 5921.152618392212, 4501.187745655479, 4357.828308732843, 4051.188619540544, 3604.5214030023703, 3187.994387122388, 2278.2381390314263, 2253.6257489259488, 1855.8271043029508, 1824.5514163879625, 1679.710971464984, 1523.8121683805164, 1503.1715072897723, 1490.052015579273, 1445.1507412547335, 1395.7954947049298, 1353.5479917343423, 1256.9807438655382, 1177.1352141538973, 1125.7415125195782, 1105.1379971896454, 1093.665691883117, 1083.4860590528174, 882.8388657751491, 845.2001090332061, 831.3317718183538, 822.645919916675, 14024.737610747918, 6991.85199865975, 5168.123553816283, 4129.952385469738, 3929.7700628367115, 3869.4673958716353, 2852.4853377539334, 2676.610495178023, 2107.158679257914, 1964.167340324675, 1847.1790317229509, 1716.4038407394594, 1536.6783483769013, 1509.755206454081, 1455.375922489319, 1432.206272566749, 1390.030675229809, 1363.8158024255545, 1312.2760788749204, 1265.964335774202, 1265.792308744689, 1212.3719386988553, 1186.050587444649, 1030.6216334906871, 1000.8119225897259, 955.7189575602918, 885.3569644542434, 819.7535753389037, 733.4082652222066, 722.0419186408656, 15569.081386586491, 4416.270111625022, 3756.413460851073, 3213.0052781947247, 2637.2369955537365, 2598.4724675834714, 2459.6089260891204, 2252.4253156214504, 2197.635027463563, 2109.8053226245133, 2065.6694375348584, 1817.94030054782, 1746.429990538465, 1744.1220120620355, 1585.8332398014973, 1521.2855862731324, 1298.631302273484, 1123.324627790054, 1112.0613871325645, 1057.9163649217844, 991.2998523941653, 969.1737433571982, 903.0594156974822, 851.5498026108547, 844.8955559100849, 788.8918383030368, 775.4778809843623, 723.0443122758794, 711.2128232017501, 707.5147504777714, 14356.89503700275, 7451.13191100313, 5929.62990718575, 3640.2119379110345, 3416.849169515576, 3303.3929031523544, 3211.6572621398414, 2102.38330369588, 2000.439037647362, 1711.0487115649973, 1708.44055212248, 1528.667593537191, 1243.9753514299239, 1140.6805124511907, 1033.6727132817518, 747.9270947331729, 722.1118578670579, 689.7409219952568, 675.1758676257303, 636.3863642332469, 570.3894889333963, 526.1645850197341, 516.4211268874832, 492.5555130774254, 491.56091845417154, 487.993386516398, 480.9718553000962, 461.2726670108628, 457.38574864354746, 454.0884878346081, 4527.780372798875, 3738.9294359684136, 3630.5618015530804, 3064.0668531519154, 2838.096264373261, 1901.8140264039969, 1704.0307911640427, 1679.3000263144777, 1670.3420629893878, 1645.5125575765335, 1605.4019465336328, 1471.0604597707372, 1226.2903634747438, 1158.404754470457, 1142.684935687259, 1004.4450029042476, 997.6379248033322, 938.0772290222327, 895.5128882226298, 839.1019896515024, 834.6370564430841, 808.6039329985879, 757.0895227671663, 733.3124472605916, 725.8420814327015, 670.7689301814241, 613.5524531122405, 571.1692035760688, 570.0648612869213, 553.6733257042728, 7531.890573044743, 7353.605474263395, 3936.665025583457, 2865.0747283599044, 2794.447360157842, 2531.165050100323, 2391.617971273203, 2385.4621938523774, 2333.385043757519, 2121.1962353788895, 1152.4764228951851, 1095.6713151794745, 878.8745636996446, 836.632263579835, 835.9145296878006, 750.7359239170587, 723.2120057704766, 709.6500382129122, 683.6755232032056, 668.317063791836, 652.2117166345296, 618.7549238514423, 614.1758731346023, 609.2754763509826, 567.5299029930646, 537.5872935344505, 507.400994462949, 500.5071538932199, 499.5746227726586, 489.78023520919146], \"Total\": [53186.0, 28254.0, 46006.0, 15569.0, 14357.0, 27919.0, 26728.0, 16190.0, 14025.0, 25535.0, 23323.0, 22055.0, 12673.0, 11356.0, 18019.0, 10727.0, 17395.0, 7532.0, 7354.0, 15271.0, 7452.0, 8497.0, 13797.0, 8265.0, 8161.0, 13315.0, 6992.0, 7891.0, 12243.0, 5930.0, 27919.208028388057, 26728.938072547986, 23323.29039393152, 22055.755810503713, 18019.601289781807, 17395.646013670044, 13315.872426944274, 9227.34432572379, 8234.656466675995, 8202.253998820173, 7859.710107757756, 7404.438791630652, 6814.999461721133, 6103.513381712983, 6093.660605144084, 5732.431547092877, 5670.392201687568, 5158.208032300291, 4524.485819290987, 4510.748908229987, 4344.779214311629, 4132.647207717466, 4132.360799312116, 3746.679983567181, 3623.2984635997736, 3370.2569140651294, 3286.3738397470947, 2919.8073604641027, 2915.4380536886433, 2897.52699325016, 53186.13676530191, 46006.04801985639, 25535.33485809565, 15271.687991797462, 13797.453669077931, 12243.131565227975, 11780.290709183631, 11518.382772734434, 9175.587583423918, 8744.699759110288, 8513.718050887579, 7759.345829641404, 7756.907765372268, 7041.54641609936, 6253.689514285044, 5885.780575055973, 4951.738330993118, 4877.412490437666, 4754.340220844358, 4207.756669206614, 3895.588886391736, 3878.161292415969, 3570.7393540384874, 3511.7538535502586, 3388.0291432614936, 3342.1098499996924, 2753.180771104638, 2487.341088738649, 2345.403777682854, 1947.1622649095461, 16190.34364323555, 11356.263244336422, 10727.23190766689, 8265.0941366269, 8161.6158323631735, 6137.300328531185, 5877.167441988254, 4995.650570891926, 4765.228605106659, 4495.451468700532, 3103.6609653489622, 2339.883466444781, 2329.4545899132377, 2192.1486584117138, 2075.1211251437235, 1905.2574722692564, 1781.1877871358347, 1637.6956332346372, 1617.6398925629167, 1196.0277232589356, 1175.5177709760426, 1135.4745856774016, 1062.198775377161, 954.5217472326184, 951.3803363451199, 926.6986709614752, 919.082035764523, 906.6096653041984, 880.6956942258226, 781.6626089169412, 7891.983976253219, 5729.870883049745, 5372.743427027737, 4366.349576196011, 4022.6695249816025, 3981.2492302698993, 3900.8619520874745, 3705.6580915465083, 3629.5890816996884, 3444.7355292086563, 3150.7035646072354, 3149.077237221923, 3096.767160847704, 3084.382478742244, 2939.7218983568314, 2862.1225177845286, 2578.4490841724505, 2362.0004040662675, 2285.232147437725, 2219.860800351895, 2063.0862929330933, 2052.984417965193, 2036.4458929225354, 1854.6272058911966, 1710.1162242320447, 1709.8835187301677, 1679.9397287921968, 1646.8475483596844, 1568.0812861034728, 1511.859660139583, 28254.683165004433, 12673.914914677043, 8497.770023198113, 5922.0496184854555, 4502.08473927863, 4358.725182462523, 4052.0856105288726, 3605.418444943273, 3188.8913277964243, 2279.1351822598444, 2254.522740358616, 1856.7241166103472, 1825.448383668041, 1680.6078393721748, 1524.709216631683, 1504.0684064948925, 1490.949019738309, 1446.0477780108363, 1396.6925459235786, 1354.444989851324, 1257.877620792723, 1178.032209659783, 1126.6386094152704, 1106.034990751731, 1094.562707179628, 1084.3831429281943, 883.7358990105512, 846.0969477823131, 832.2286400955317, 823.5429373771599, 14025.656434690523, 6992.770826337266, 5169.042402257619, 4130.871203148338, 3930.6888958614677, 3870.3862438357432, 2853.4041646855835, 2677.529369939213, 2108.0776343374073, 1965.0861733364807, 1848.0978461869393, 1717.3226816547642, 1537.5971547561935, 1510.6740233061446, 1456.2948331109785, 1433.125127291197, 1390.9494996023573, 1364.734734069054, 1313.1949290111436, 1266.8831964784217, 1266.7111285978008, 1213.2907858184735, 1186.9694548257207, 1031.5404958409715, 1001.7308011525215, 956.6380596587358, 886.2758148094716, 820.6724047772891, 734.3270281822548, 722.9607965093609, 15569.993269773635, 4417.182016932117, 3757.3253575411886, 3213.917206558217, 2638.1490084062593, 2599.3844061176674, 2460.5208260684267, 2253.3372290981224, 2198.5469258504604, 2110.7172047932436, 2066.581363736023, 1818.8522588122992, 1747.3419202776377, 1745.0339762523154, 1586.7450819801861, 1522.1974997844918, 1299.5431799889448, 1124.236519564375, 1112.97347587455, 1058.82837291936, 992.2117346097336, 970.0856387204302, 903.971306775298, 852.4617605920778, 845.8075058007089, 789.8038092377698, 776.3897283424748, 723.9564014278819, 712.1246583112511, 708.426724514686, 14357.81481266279, 7452.05168238913, 5930.549691120735, 3641.131714441582, 3417.768950295216, 3304.3127359076225, 3212.577090598528, 2103.303047346718, 2001.3587804432088, 1711.9684428462235, 1709.3603525731617, 1529.5874233149707, 1244.895155209017, 1141.6003561755529, 1034.592489050813, 748.846900735433, 723.0318145826349, 690.6607442409153, 676.0957779755317, 637.3061199572029, 571.3092577860086, 527.0843035041831, 517.3409488690346, 493.47525950952183, 492.480877064618, 488.9131170676458, 481.89161272939623, 462.1923562099385, 458.3055690398614, 455.0082442464905, 4528.694469921616, 3739.843550687376, 3631.4759096867356, 3064.9809497901274, 2839.0103826779523, 1902.7281478743905, 1704.9450356767443, 1680.2141248732412, 1671.2561678496818, 1646.4266805808445, 1606.3160650949558, 1471.9745751033488, 1227.2045286501516, 1159.3188850355352, 1143.599002075094, 1005.3591014717373, 998.5520740128985, 938.9913773141417, 896.4269578868738, 840.0161664002619, 835.5511251704432, 809.5180928901796, 758.0035976264085, 734.2265649812157, 726.7561942352297, 671.6831009776115, 614.4666011574296, 572.0833542629305, 570.979052669678, 554.5874840619531, 7532.789762519633, 7354.5046836833235, 3937.5641980236123, 2865.9739075514876, 2795.346558949847, 2532.064260373473, 2392.5172086185703, 2386.3613463254196, 2334.284245285978, 2122.0954577097255, 1153.3756174391829, 1096.5705433765738, 879.773697426583, 837.5315419802008, 836.8137369405799, 751.6351345804682, 724.1112916395939, 710.5492312144781, 684.5747888465885, 669.216229530075, 653.1109379029778, 619.654114028317, 615.0750925228272, 610.1747039116168, 568.4290639975743, 538.486509559898, 508.30022714799117, 501.40633898802895, 500.4737523912697, 490.6794629733786], \"Category\": [\"Default\", \"Default\", \"Default\", \"Default\", \"Default\", \"Default\", \"Default\", \"Default\", \"Default\", \"Default\", \"Default\", \"Default\", \"Default\", \"Default\", \"Default\", \"Default\", \"Default\", \"Default\", \"Default\", \"Default\", \"Default\", \"Default\", \"Default\", \"Default\", \"Default\", \"Default\", \"Default\", \"Default\", \"Default\", \"Default\", \"Topic1\", \"Topic1\", \"Topic1\", \"Topic1\", \"Topic1\", \"Topic1\", \"Topic1\", \"Topic1\", \"Topic1\", \"Topic1\", \"Topic1\", \"Topic1\", \"Topic1\", \"Topic1\", \"Topic1\", \"Topic1\", \"Topic1\", \"Topic1\", \"Topic1\", \"Topic1\", \"Topic1\", \"Topic1\", \"Topic1\", \"Topic1\", \"Topic1\", \"Topic1\", \"Topic1\", \"Topic1\", \"Topic1\", \"Topic1\", \"Topic2\", \"Topic2\", \"Topic2\", \"Topic2\", \"Topic2\", \"Topic2\", \"Topic2\", \"Topic2\", \"Topic2\", \"Topic2\", \"Topic2\", \"Topic2\", \"Topic2\", \"Topic2\", \"Topic2\", \"Topic2\", \"Topic2\", \"Topic2\", \"Topic2\", \"Topic2\", \"Topic2\", \"Topic2\", \"Topic2\", \"Topic2\", \"Topic2\", \"Topic2\", \"Topic2\", \"Topic2\", \"Topic2\", \"Topic2\", \"Topic3\", \"Topic3\", \"Topic3\", \"Topic3\", \"Topic3\", \"Topic3\", \"Topic3\", \"Topic3\", \"Topic3\", \"Topic3\", \"Topic3\", \"Topic3\", \"Topic3\", \"Topic3\", \"Topic3\", \"Topic3\", \"Topic3\", \"Topic3\", \"Topic3\", \"Topic3\", \"Topic3\", \"Topic3\", \"Topic3\", \"Topic3\", \"Topic3\", \"Topic3\", \"Topic3\", \"Topic3\", \"Topic3\", \"Topic3\", \"Topic4\", \"Topic4\", \"Topic4\", \"Topic4\", \"Topic4\", \"Topic4\", \"Topic4\", \"Topic4\", \"Topic4\", \"Topic4\", \"Topic4\", \"Topic4\", \"Topic4\", \"Topic4\", \"Topic4\", \"Topic4\", \"Topic4\", \"Topic4\", \"Topic4\", \"Topic4\", \"Topic4\", \"Topic4\", \"Topic4\", \"Topic4\", \"Topic4\", \"Topic4\", \"Topic4\", \"Topic4\", \"Topic4\", \"Topic4\", \"Topic5\", \"Topic5\", \"Topic5\", \"Topic5\", \"Topic5\", \"Topic5\", \"Topic5\", \"Topic5\", \"Topic5\", \"Topic5\", \"Topic5\", \"Topic5\", \"Topic5\", \"Topic5\", \"Topic5\", \"Topic5\", \"Topic5\", \"Topic5\", \"Topic5\", \"Topic5\", \"Topic5\", \"Topic5\", \"Topic5\", \"Topic5\", \"Topic5\", \"Topic5\", \"Topic5\", \"Topic5\", \"Topic5\", \"Topic5\", \"Topic6\", \"Topic6\", \"Topic6\", \"Topic6\", \"Topic6\", \"Topic6\", \"Topic6\", \"Topic6\", \"Topic6\", \"Topic6\", \"Topic6\", \"Topic6\", \"Topic6\", \"Topic6\", \"Topic6\", \"Topic6\", \"Topic6\", \"Topic6\", \"Topic6\", \"Topic6\", \"Topic6\", \"Topic6\", \"Topic6\", \"Topic6\", \"Topic6\", \"Topic6\", \"Topic6\", \"Topic6\", \"Topic6\", \"Topic6\", \"Topic7\", \"Topic7\", \"Topic7\", \"Topic7\", \"Topic7\", \"Topic7\", \"Topic7\", \"Topic7\", \"Topic7\", \"Topic7\", \"Topic7\", \"Topic7\", \"Topic7\", \"Topic7\", \"Topic7\", \"Topic7\", \"Topic7\", \"Topic7\", \"Topic7\", \"Topic7\", \"Topic7\", \"Topic7\", \"Topic7\", \"Topic7\", \"Topic7\", \"Topic7\", \"Topic7\", \"Topic7\", \"Topic7\", \"Topic7\", \"Topic8\", \"Topic8\", \"Topic8\", \"Topic8\", \"Topic8\", \"Topic8\", \"Topic8\", \"Topic8\", \"Topic8\", \"Topic8\", \"Topic8\", \"Topic8\", \"Topic8\", \"Topic8\", \"Topic8\", \"Topic8\", \"Topic8\", \"Topic8\", \"Topic8\", \"Topic8\", \"Topic8\", \"Topic8\", \"Topic8\", \"Topic8\", \"Topic8\", \"Topic8\", \"Topic8\", \"Topic8\", \"Topic8\", \"Topic8\", \"Topic9\", \"Topic9\", \"Topic9\", \"Topic9\", \"Topic9\", \"Topic9\", \"Topic9\", \"Topic9\", \"Topic9\", \"Topic9\", \"Topic9\", \"Topic9\", \"Topic9\", \"Topic9\", \"Topic9\", \"Topic9\", \"Topic9\", \"Topic9\", \"Topic9\", \"Topic9\", \"Topic9\", \"Topic9\", \"Topic9\", \"Topic9\", \"Topic9\", \"Topic9\", \"Topic9\", \"Topic9\", \"Topic9\", \"Topic9\", \"Topic10\", \"Topic10\", \"Topic10\", \"Topic10\", \"Topic10\", \"Topic10\", \"Topic10\", \"Topic10\", \"Topic10\", \"Topic10\", \"Topic10\", \"Topic10\", \"Topic10\", \"Topic10\", \"Topic10\", \"Topic10\", \"Topic10\", \"Topic10\", \"Topic10\", \"Topic10\", \"Topic10\", \"Topic10\", \"Topic10\", \"Topic10\", \"Topic10\", \"Topic10\", \"Topic10\", \"Topic10\", \"Topic10\", \"Topic10\"], \"logprob\": [30.0, 29.0, 28.0, 27.0, 26.0, 25.0, 24.0, 23.0, 22.0, 21.0, 20.0, 19.0, 18.0, 17.0, 16.0, 15.0, 14.0, 13.0, 12.0, 11.0, 10.0, 9.0, 8.0, 7.0, 6.0, 5.0, 4.0, 3.0, 2.0, 1.0, -2.6387, -2.6823, -2.8186, -2.8745, -3.0766, -3.1118, -3.3791, -3.7459, -3.8598, -3.8637, -3.9064, -3.9661, -4.049, -4.1593, -4.1609, -4.222, -4.2329, -4.3276, -4.4587, -4.4617, -4.4992, -4.5493, -4.5494, -4.6474, -4.6809, -4.7533, -4.7785, -4.8968, -4.8983, -4.9045, -1.9613, -2.1064, -2.6951, -3.2092, -3.3107, -3.4302, -3.4688, -3.4912, -3.7187, -3.7668, -3.7935, -3.8863, -3.8866, -3.9834, -4.1021, -4.1627, -4.3356, -4.3507, -4.3762, -4.4984, -4.5755, -4.58, -4.6626, -4.6793, -4.7151, -4.7288, -4.9227, -5.0243, -5.083, -5.2692, -2.2564, -2.6111, -2.6681, -2.9289, -2.9415, -3.2266, -3.2699, -3.4324, -3.4796, -3.5379, -3.9085, -4.1911, -4.1956, -4.2563, -4.3112, -4.3967, -4.464, -4.5481, -4.5604, -4.8626, -4.8799, -4.9146, -4.9813, -5.0883, -5.0916, -5.1179, -5.1262, -5.1399, -5.1689, -5.2883, -2.9683, -3.2885, -3.3528, -3.5603, -3.6423, -3.6526, -3.6731, -3.7244, -3.7451, -3.7974, -3.8867, -3.8872, -3.904, -3.908, -3.956, -3.9828, -4.0872, -4.1749, -4.2079, -4.237, -4.3103, -4.3152, -4.3233, -4.4168, -4.498, -4.4981, -4.5158, -4.5357, -4.5847, -4.6213, -1.6, -2.4018, -2.8016, -3.1627, -3.4369, -3.4693, -3.5423, -3.6591, -3.7819, -4.1179, -4.1287, -4.3229, -4.3399, -4.4226, -4.5201, -4.5337, -4.5425, -4.5731, -4.6078, -4.6385, -4.7126, -4.7782, -4.8228, -4.8413, -4.8517, -4.8611, -5.0659, -5.1094, -5.126, -5.1365, -2.0485, -2.7446, -3.0468, -3.2711, -3.3208, -3.3362, -3.6412, -3.7048, -3.944, -4.0143, -4.0757, -4.1491, -4.2597, -4.2774, -4.3141, -4.3301, -4.36, -4.3791, -4.4176, -4.4535, -4.4537, -4.4968, -4.5187, -4.6592, -4.6885, -4.7346, -4.8111, -4.8881, -4.9994, -5.015, -1.7675, -3.0275, -3.1893, -3.3456, -3.5431, -3.5579, -3.6128, -3.7008, -3.7254, -3.7662, -3.7873, -3.9151, -3.9552, -3.9565, -4.0517, -4.0932, -4.2515, -4.3965, -4.4066, -4.4565, -4.5215, -4.5441, -4.6148, -4.6735, -4.6813, -4.7499, -4.7671, -4.8371, -4.8536, -4.8588, -1.7671, -2.423, -2.6514, -3.1393, -3.2026, -3.2364, -3.2645, -3.6883, -3.738, -3.8942, -3.8958, -4.0069, -4.213, -4.2997, -4.3982, -4.7218, -4.7569, -4.8028, -4.8241, -4.8833, -4.9928, -5.0735, -5.0922, -5.1395, -5.1415, -5.1488, -5.1633, -5.2051, -5.2136, -5.2208, -2.7641, -2.9555, -2.9849, -3.1546, -3.2312, -3.6315, -3.7413, -3.7559, -3.7613, -3.7763, -3.8009, -3.8883, -4.0703, -4.1273, -4.1409, -4.2699, -4.2767, -4.3382, -4.3847, -4.4497, -4.4551, -4.4868, -4.5526, -4.5845, -4.5947, -4.6736, -4.7628, -4.8344, -4.8363, -4.8655, -2.232, -2.256, -2.8808, -3.1986, -3.2235, -3.3225, -3.3792, -3.3818, -3.4039, -3.4992, -4.1093, -4.1598, -4.3803, -4.4295, -4.4304, -4.5379, -4.5752, -4.5942, -4.6314, -4.6542, -4.6786, -4.7312, -4.7386, -4.7467, -4.8176, -4.8718, -4.9296, -4.9433, -4.9452, -4.965], \"loglift\": [30.0, 29.0, 28.0, 27.0, 26.0, 25.0, 24.0, 23.0, 22.0, 21.0, 20.0, 19.0, 18.0, 17.0, 16.0, 15.0, 14.0, 13.0, 12.0, 11.0, 10.0, 9.0, 8.0, 7.0, 6.0, 5.0, 4.0, 3.0, 2.0, 1.0, 1.4362, 1.4362, 1.4362, 1.4362, 1.4362, 1.4362, 1.4361, 1.4361, 1.4361, 1.4361, 1.4361, 1.4361, 1.4361, 1.4361, 1.4361, 1.4361, 1.4361, 1.436, 1.436, 1.436, 1.436, 1.436, 1.436, 1.436, 1.436, 1.4359, 1.4359, 1.4359, 1.4359, 1.4359, 1.4691, 1.4691, 1.4691, 1.4691, 1.4691, 1.469, 1.469, 1.469, 1.469, 1.469, 1.469, 1.469, 1.469, 1.469, 1.469, 1.469, 1.4689, 1.4689, 1.4689, 1.4689, 1.4689, 1.4689, 1.4689, 1.4689, 1.4688, 1.4688, 1.4688, 1.4688, 1.4687, 1.4686, 2.3634, 2.3634, 2.3634, 2.3633, 2.3633, 2.3633, 2.3633, 2.3633, 2.3632, 2.3632, 2.3631, 2.363, 2.363, 2.363, 2.363, 2.363, 2.3629, 2.3629, 2.3629, 2.3627, 2.3627, 2.3626, 2.3626, 2.3625, 2.3625, 2.3624, 2.3624, 2.3624, 2.3624, 2.3623, 2.3701, 2.3701, 2.37, 2.37, 2.37, 2.37, 2.37, 2.37, 2.37, 2.3699, 2.3699, 2.3699, 2.3699, 2.3699, 2.3699, 2.3699, 2.3699, 2.3698, 2.3698, 2.3698, 2.3698, 2.3698, 2.3698, 2.3697, 2.3697, 2.3697, 2.3697, 2.3697, 2.3696, 2.3696, 2.4629, 2.4629, 2.4629, 2.4628, 2.4628, 2.4628, 2.4627, 2.4627, 2.4627, 2.4626, 2.4626, 2.4625, 2.4625, 2.4624, 2.4624, 2.4624, 2.4624, 2.4623, 2.4623, 2.4623, 2.4622, 2.4622, 2.4622, 2.4622, 2.4621, 2.4621, 2.4619, 2.4619, 2.4619, 2.4619, 2.7148, 2.7147, 2.7147, 2.7147, 2.7146, 2.7146, 2.7146, 2.7145, 2.7144, 2.7144, 2.7144, 2.7143, 2.7143, 2.7143, 2.7142, 2.7142, 2.7142, 2.7142, 2.7142, 2.7142, 2.7142, 2.7141, 2.7141, 2.714, 2.714, 2.7139, 2.7138, 2.7138, 2.7136, 2.7136, 2.8914, 2.8912, 2.8912, 2.8911, 2.8911, 2.8911, 2.8911, 2.891, 2.891, 2.891, 2.891, 2.8909, 2.8909, 2.8909, 2.8909, 2.8908, 2.8907, 2.8906, 2.8906, 2.8906, 2.8905, 2.8905, 2.8904, 2.8904, 2.8904, 2.8903, 2.8903, 2.8902, 2.8902, 2.8901, 2.9728, 2.9728, 2.9727, 2.9726, 2.9726, 2.9726, 2.9726, 2.9725, 2.9724, 2.9724, 2.9724, 2.9723, 2.9722, 2.9721, 2.972, 2.9717, 2.9716, 2.9716, 2.9715, 2.9715, 2.9713, 2.9711, 2.9711, 2.971, 2.971, 2.971, 2.971, 2.9709, 2.9709, 2.9709, 3.1297, 3.1297, 3.1297, 3.1296, 3.1296, 3.1294, 3.1294, 3.1294, 3.1294, 3.1294, 3.1293, 3.1293, 3.1292, 3.1291, 3.1291, 3.129, 3.129, 3.1289, 3.1289, 3.1288, 3.1288, 3.1288, 3.1287, 3.1287, 3.1287, 3.1286, 3.1284, 3.1283, 3.1283, 3.1283, 3.1529, 3.1529, 3.1528, 3.1527, 3.1527, 3.1527, 3.1527, 3.1527, 3.1527, 3.1526, 3.1523, 3.1522, 3.152, 3.152, 3.152, 3.1519, 3.1518, 3.1518, 3.1517, 3.1517, 3.1517, 3.1516, 3.1516, 3.1516, 3.1515, 3.1514, 3.1513, 3.1513, 3.1513, 3.1512]}, \"token.table\": {\"Topic\": [4, 6, 9, 4, 4, 6, 7, 9, 10, 7, 3, 10, 9, 1, 10, 8, 10, 10, 4, 9, 7, 6, 5, 5, 6, 10, 2, 10, 6, 3, 10, 7, 6, 7, 10, 5, 10, 10, 1, 3, 10, 3, 8, 9, 3, 5, 8, 5, 5, 6, 1, 2, 10, 5, 4, 9, 3, 7, 9, 2, 3, 3, 4, 4, 8, 7, 8, 1, 4, 8, 9, 8, 3, 6, 7, 8, 10, 3, 9, 5, 4, 6, 2, 3, 4, 5, 10, 7, 9, 2, 4, 3, 10, 8, 7, 4, 10, 5, 9, 8, 3, 9, 5, 3, 3, 8, 7, 1, 2, 4, 6, 5, 5, 10, 8, 6, 5, 8, 9, 6, 10, 1, 2, 4, 1, 7, 3, 2, 10, 4, 6, 1, 9, 4, 3, 1, 6, 2, 7, 8, 10, 10, 3, 9, 3, 6, 6, 9, 4, 2, 9, 8, 4, 6, 3, 4, 5, 5, 6, 4, 6, 2, 8, 2, 9, 1, 8, 3, 7, 2, 1, 1, 7, 6, 1, 3, 2, 9, 7, 6, 9, 5, 1, 2, 6, 5, 10, 10, 1, 7, 1, 1, 9, 9, 2, 9, 7, 1, 7, 3, 4, 10, 5, 9, 5, 1, 4, 2, 10, 8, 8, 4, 7, 6, 8, 2, 8, 7, 3, 8, 4, 2, 8, 9, 5, 2, 10, 9, 6, 8, 5, 2, 4, 5, 1, 3, 2, 5, 8, 6, 8, 3, 9, 1, 1, 8, 7, 1, 1, 6, 6, 9, 7, 2, 1, 5, 7, 7, 6, 5, 2, 7, 1, 5, 4, 1, 8, 7, 2, 3, 9, 10, 2, 4, 3, 4, 8, 9, 10, 1, 6, 7, 5, 8, 2, 2, 1, 5, 3, 7, 2, 7, 5, 4, 3, 2, 10, 4, 6, 1], \"Freq\": [0.9995204941856457, 0.9994616286588799, 0.998983001095878, 0.9997766960322327, 0.999657919720358, 0.999476030419406, 0.9994065561599683, 0.9982853089529286, 0.9995796866650942, 0.9984207002269545, 0.9988226994735863, 0.9986152610315883, 0.9991806935611529, 0.9998497468714559, 0.9992270328495896, 0.9981497649972653, 0.9992451758279972, 0.9998951567022935, 0.9998224089945024, 0.9989442104175894, 0.9995820223619277, 0.9994472642720617, 0.9998227609437484, 0.9994331727938901, 0.999488807091421, 0.9997838224039906, 0.9999786266615504, 0.9991603709982412, 0.9991832520864127, 0.9998697725385925, 0.9994837849043287, 0.9995644641744654, 0.9994059588407592, 0.9995304337233197, 0.9999313776107257, 0.9998839399782126, 0.9996601826873156, 0.9993653469110619, 0.9999649042343006, 0.9988714208630722, 0.9982990058219745, 0.9985491224777436, 0.9993210710360948, 0.9993404052082022, 0.9991407195343807, 0.9993023003365225, 0.9977841187291887, 0.9996714596350105, 0.9995019241207452, 0.998560476560284, 0.9998471153392282, 0.9998829732930021, 0.9995182855071992, 0.9985236748216324, 0.9996618156526529, 0.9988623621571602, 0.9993275327546901, 0.9990452841868027, 0.9986759988612837, 0.999571124745229, 0.9994533940854349, 0.9997881269513339, 0.999440617555445, 0.999833562022074, 0.9994741100313213, 0.9994674100089201, 0.9979505610941087, 0.9998533438297762, 0.9997544331124536, 0.9996891860744577, 0.9993379130863858, 0.9990433157719982, 0.9999245452890919, 0.9997983374527623, 0.9989001250690077, 0.9983792562958862, 0.9998567139492238, 0.9992100628737214, 0.9983294461958795, 0.9993634794176426, 0.9994313889296421, 0.9981928648526806, 0.9999477250600758, 0.9997421728927458, 0.999781043570033, 0.9992754195077305, 0.9994498333745894, 0.9989255114979668, 0.999740844468887, 0.9998265537236061, 0.9996909143043955, 0.9994597302633861, 0.9990275769808046, 0.9985729333594671, 0.9992133085327881, 0.9993472816547624, 0.998074807257518, 0.9999278112025208, 0.9992406403268286, 0.9998588734439918, 0.999787036871507, 0.9996173137632909, 0.9997204897549644, 0.9994760125380612, 0.9995820376049029, 0.997151313167334, 0.9991253377590287, 0.9998433914909898, 0.9998799507915549, 0.9997790354803473, 0.999110871588954, 0.9993407297269903, 0.9992896556497837, 0.9990533921329418, 0.9990369131980513, 0.9986710254359574, 0.999123784858072, 0.9993804757006549, 0.9994471254656957, 0.999333018739644, 0.9984653027063317, 0.9999446735898013, 0.9999199790582222, 0.9998616299032637, 0.9998543106579384, 0.9999362061526665, 0.9998887623235528, 0.9999359623110154, 0.9990965241445035, 0.9993104400179663, 0.9990900596821194, 0.9999344821791392, 0.9990184776685297, 0.9996862215355921, 0.9993399987731009, 0.9999657318248258, 0.9992149134295596, 0.9998508945861503, 0.9994074750025579, 0.9990235619553712, 0.9988073118432683, 0.9991549961527242, 0.9995752365576849, 0.9993599983808517, 0.9996044282996119, 0.998936128227824, 0.9993173730587425, 0.9996799491395878, 0.9998480100044974, 0.9997104016852306, 0.99927739872242, 0.9974079978165926, 0.9994734621926313, 0.9995078984242886, 0.9996224314341076, 0.9998377001675869, 0.999064233265326, 0.9999758211762474, 0.9995538261095737, 0.999485351051147, 0.999229800159927, 0.9997853341715575, 0.9994343103400823, 0.9994030980722605, 0.9986481432656772, 0.9999407393803905, 0.9999073119441934, 0.9998013597536948, 0.9982100119415004, 0.9998904348614568, 0.9997544787665387, 0.9999567312802417, 0.9997146141299641, 0.9993028587948148, 0.9998926244195715, 0.9998995721111271, 0.9999549498524438, 0.999476213188358, 0.9992176513771764, 0.9991806660326643, 0.9994457090070537, 0.9996383217084113, 0.9996416349321431, 0.9998488325105882, 0.9996418332051611, 0.9995041529178345, 0.9981826060450909, 0.9991896014141962, 0.9997658038813622, 0.9994583210491963, 0.9998915914116506, 0.9998185103691366, 0.9989594939248843, 0.9998466511869529, 0.9999772199547343, 0.9998689486868229, 0.9996472603740508, 0.9999202800167012, 0.9987787540023297, 0.9993331488434778, 0.9996078023293715, 0.9994797020766061, 0.9987244887222616, 0.9995237114601281, 0.9998336251008803, 0.9999666313492659, 0.9995517810285293, 0.9994014771800867, 0.9994295305161912, 0.9992041744907012, 0.9997750139619151, 0.9998258316694298, 0.9995314304346766, 0.999824739153945, 0.9994273213298152, 0.9994608344047703, 0.9999432495352935, 0.999718683354924, 0.999804851352241, 0.9977083203743584, 0.9997522704136742, 0.9998897428016742, 0.9981323530996214, 0.9996441074382407, 0.999754370667474, 0.9996962413196651, 0.9974420095082652, 0.9992483690568525, 0.9998897681110379, 0.9996159596332862, 0.9991672862770709, 0.999915659541074, 0.9995764589775068, 0.9999093852627207, 0.9999096521693522, 0.9991523082857203, 0.9996679193534909, 0.9997681370210829, 0.9974202165096021, 0.999789099416202, 0.9996027204406662, 0.999559537942491, 0.9989406827978695, 0.9998181230920755, 0.999627056898872, 0.9979428271777884, 0.9986789239987441, 0.9998206550268279, 0.9995819587745987, 0.9996116312036958, 0.9992704615334971, 0.9987903013764408, 0.9997512330330413, 0.9998201727746874, 0.9998339725297898, 0.9987035199864646, 0.999397644809379, 0.9992320219288138, 0.9999531975780542, 0.9997590584492633, 0.9997005559262736, 0.9997883269009924, 0.999723488448233, 0.9996100031211588, 0.9997864773064813, 0.9999247183172915, 0.9998203652138912, 0.9989822672056424, 0.9999671193621075, 0.9998851607127083, 0.9981062999738451, 0.9989443884684881, 0.9999224011222719, 0.9994832871827294, 0.9992460645694567, 0.9994608217641667, 0.9992809392780818, 0.9997744422524785, 0.9991205722234637, 0.9999628634849469, 0.9994386023918587, 0.9997324047486414, 0.9994859068594819, 0.9988690602383461, 0.9998673795181423, 0.9997929409107805, 0.9999158875092302, 0.9997320859840543, 0.9998676195807558, 0.9988808836281071, 0.9997181058186619, 0.9996602080128901, 0.9995348512201889, 0.9996122277794363, 0.9999170095913245, 0.9999075755069733, 0.9982520954987504, 0.9998753195323027, 0.9998022916405114, 0.9996706968780794], \"Term\": [\"1\", \"10\", \"100\", \"2\", \"24\", \"4\", \"5\", \"50\", \"NOT_a\", \"NOT_enough\", \"NOT_get\", \"NOT_had\", \"NOT_matches\", \"NOT_one\", \"NOT_response\", \"absolutely\", \"access\", \"account\", \"actually\", \"age\", \"almost\", \"already\", \"also\", \"amount\", \"android\", \"anything\", \"app\", \"apparently\", \"appear\", \"apps\", \"ask\", \"attractive\", \"away\", \"awesome\", \"back\", \"backtrack\", \"bad\", \"basically\", \"be\", \"beautiful\", \"because\", \"believe\", \"best\", \"big\", \"bit\", \"boost\", \"bore\", \"bot\", \"bug\", \"buggy\", \"bumble\", \"can\", \"change\", \"charge\", \"chat\", \"check\", \"city\", \"click\", \"close\", \"come\", \"completely\", \"concept\", \"connect\", \"connection\", \"constantly\", \"contact\", \"control\", \"conversation\", \"cool\", \"could\", \"crash\", \"data\", \"date\", \"day\", \"decent\", \"decide\", \"delete\", \"design\", \"developer\", \"different\", \"disappear\", \"distance\", \"do\", \"easy\", \"either\", \"else\", \"email\", \"enjoy\", \"enough\", \"even\", \"every\", \"everyone\", \"everything\", \"except\", \"experience\", \"expire\", \"extremely\", \"facebook\", \"fail\", \"fake\", \"far\", \"fb\", \"feature\", \"feel\", \"female\", \"fill\", \"finally\", \"find\", \"first\", \"fix\", \"force\", \"forever\", \"free\", \"freeze\", \"friendly\", \"frustrate\", \"full\", \"fun\", \"function\", \"galaxy\", \"game\", \"get\", \"girl\", \"give\", \"go\", \"good\", \"great\", \"guy\", \"hand\", \"happen\", \"hard\", \"have\", \"hot\", \"hour\", \"however\", \"i\", \"id\", \"idea\", \"ill\", \"image\", \"info\", \"information\", \"initiate\", \"instal\", \"interest\", \"interested\", \"interface\", \"issue\", \"keep\", \"know\", \"last\", \"late\", \"least\", \"leave\", \"less\", \"let\", \"life\", \"like\", \"limit\", \"little\", \"live\", \"load\", \"location\", \"log\", \"login\", \"look\", \"lot\", \"love\", \"luck\", \"make\", \"many\", \"match\", \"maybe\", \"mean\", \"meet\", \"men\", \"message\", \"mile\", \"minute\", \"miss\", \"model\", \"money\", \"month\", \"move\", \"much\", \"must\", \"na\", \"name\", \"need\", \"network\", \"never\", \"new\", \"next\", \"nice\", \"not\", \"nothing\", \"notification\", \"one\", \"online\", \"open\", \"option\", \"otherwise\", \"overall\", \"page\", \"pay\", \"people\", \"person\", \"phone\", \"photo\", \"pic\", \"picture\", \"please\", \"pop\", \"pretty\", \"probably\", \"problem\", \"profile\", \"put\", \"quality\", \"rather\", \"real\", \"really\", \"relationship\", \"reply\", \"require\", \"respond\", \"restart\", \"review\", \"right\", \"run\", \"save\", \"say\", \"screen\", \"see\", \"seem\", \"selection\", \"send\", \"set\", \"short\", \"show\", \"sign\", \"simple\", \"simply\", \"since\", \"site\", \"slow\", \"smooth\", \"someone\", \"something\", \"sometimes\", \"soon\", \"spam\", \"star\", \"start\", \"still\", \"subscription\", \"suppose\", \"sure\", \"swipe\", \"take\", \"talk\", \"tell\", \"that\", \"they\", \"thing\", \"think\", \"though\", \"three\", \"time\", \"tinder\", \"total\", \"track\", \"try\", \"two\", \"type\", \"u\", \"uninstalled\", \"update\", \"upload\", \"use\", \"useless\", \"user\", \"version\", \"view\", \"want\", \"waste\", \"way\", \"week\", \"well\", \"what\", \"will\", \"wish\", \"within\", \"without\", \"woman\", \"work\", \"worth\", \"would\", \"yet\", \"you\"]}, \"R\": 30, \"lambda.step\": 0.01, \"plot.opts\": {\"xlab\": \"PC1\", \"ylab\": \"PC2\"}, \"topic.order\": [8, 1, 2, 4, 7, 3, 9, 5, 10, 6]};\n",
       "\n",
       "function LDAvis_load_lib(url, callback){\n",
       "  var s = document.createElement('script');\n",
       "  s.src = url;\n",
       "  s.async = true;\n",
       "  s.onreadystatechange = s.onload = callback;\n",
       "  s.onerror = function(){console.warn(\"failed to load library \" + url);};\n",
       "  document.getElementsByTagName(\"head\")[0].appendChild(s);\n",
       "}\n",
       "\n",
       "if(typeof(LDAvis) !== \"undefined\"){\n",
       "   // already loaded: just create the visualization\n",
       "   !function(LDAvis){\n",
       "       new LDAvis(\"#\" + \"ldavis_el428771406520334330401557456008\", ldavis_el428771406520334330401557456008_data);\n",
       "   }(LDAvis);\n",
       "}else if(typeof define === \"function\" && define.amd){\n",
       "   // require.js is available: use it to load d3/LDAvis\n",
       "   require.config({paths: {d3: \"https://d3js.org/d3.v5\"}});\n",
       "   require([\"d3\"], function(d3){\n",
       "      window.d3 = d3;\n",
       "      LDAvis_load_lib(\"https://cdn.jsdelivr.net/gh/bmabey/pyLDAvis@3.3.1/pyLDAvis/js/ldavis.v3.0.0.js\", function(){\n",
       "        new LDAvis(\"#\" + \"ldavis_el428771406520334330401557456008\", ldavis_el428771406520334330401557456008_data);\n",
       "      });\n",
       "    });\n",
       "}else{\n",
       "    // require.js not available: dynamically load d3 & LDAvis\n",
       "    LDAvis_load_lib(\"https://d3js.org/d3.v5.js\", function(){\n",
       "         LDAvis_load_lib(\"https://cdn.jsdelivr.net/gh/bmabey/pyLDAvis@3.3.1/pyLDAvis/js/ldavis.v3.0.0.js\", function(){\n",
       "                 new LDAvis(\"#\" + \"ldavis_el428771406520334330401557456008\", ldavis_el428771406520334330401557456008_data);\n",
       "            })\n",
       "         });\n",
       "}\n",
       "</script>"
      ],
      "text/plain": [
       "<IPython.core.display.HTML object>"
      ]
     },
     "execution_count": 11,
     "metadata": {},
     "output_type": "execute_result"
    }
   ],
   "source": [
    "import pyLDAvis.gensim_models as gensimvis\n",
    "import pyLDAvis\n",
    "\n",
    "# create the visualization\n",
    "lda_visualization = gensimvis.prepare(lda_model, bow_corpus, dictionary)\n",
    "\n",
    "# display the visualization\n",
    "pyLDAvis.display(lda_visualization)"
   ]
  },
  {
   "cell_type": "markdown",
   "id": "f5a2cd66",
   "metadata": {},
   "source": [
    "### Additional analysis and insights for each of the topics in the given list\n",
    "\n",
    "- Topic 1: This topic suggests that users are experiencing issues with the app's messaging functionality, as well as other technical problems. This could be a critical issue for the business, as messaging is a core feature of most dating apps, and technical issues could drive users away from the platform. Improving the app's messaging and technical performance could be a key priority for the product team.\n",
    "\n",
    "\n",
    "- Topic 2: This topic suggests that users are using the app for dating, and may be looking for specific features or functionality to support their dating goals. For example, they may be interested in features that make it easy to find and connect with other users, or to filter potential matches based on certain criteria. Understanding user needs and preferences in this area could help the product team develop new features or improve existing ones to better support the user experience.\n",
    "\n",
    "\n",
    "- Topic 3: This topic suggests that users may be frustrated with the app's swiping functionality or other user interface elements. This could be a key area for improvement, as the app's user interface is a critical component of the user experience. The product team may need to conduct user testing or research to better understand user needs and preferences, and use this information to inform the design and development of the app's user interface.\n",
    "\n",
    "\n",
    "- Topic 4: This topic suggests that users may be experiencing connection issues or other technical problems that are preventing them from using the app effectively. Addressing these issues could be a key priority for the product team, as they could significantly impact user retention and engagement. The team may need to conduct technical audits or engage with users to identify and address these issues.\n",
    "\n",
    "\n",
    "- Topic 5: This topic suggests that users are concerned about fake profiles and other fraudulent activity on the platform. This could be a critical issue for the business, as users are likely to abandon the platform if they do not feel that their safety and privacy are being protected. The product team may need to develop new security features or improve existing ones to better address these concerns.\n",
    "\n",
    "\n",
    "- Topic 6: This topic suggests that users may be concerned about account management and privacy issues. The product team may need to improve the app's privacy settings or develop new features to help users better manage their accounts and data. This could be a critical area of focus for the business, as privacy concerns are a key driver of user trust and engagement.\n",
    "\n",
    "\n",
    "- Topic 7: This topic suggests that users may be interested in social media integration or other advanced features that enhance the user experience. The product team may need to conduct user research or testing to better understand user needs and preferences in this area, and use this information to inform the design and development of new features.\n",
    "\n",
    "\n",
    "- Topic 8: This topic suggests that users have general feedback or comments about the app, and may be interested in a range of different features or functionality. The product team may need to engage with users to better understand their needs and preferences, and use this information to guide product development and optimization.\n",
    "\n",
    "\n",
    "- Topic 9: This topic suggests that users are generally satisfied with the app's performance and features, but may have minor complaints or issues. The product team may need to prioritize bug fixes or other optimizations to ensure that the app continues to meet user expectations and remains competitive in the market.\n",
    "\n",
    "\n",
    "- Topic 10: This topic suggests that users may be experiencing issues with app updates or other technical issues. The product team may need to prioritize technical support or other resources to help users resolve these issues and ensure that they are able to use the app effectively. Improving user support and engagement could be critical for driving user retention and engagement."
   ]
  }
 ],
 "metadata": {
  "kernelspec": {
   "display_name": "Python 3 (ipykernel)",
   "language": "python",
   "name": "python3"
  },
  "language_info": {
   "codemirror_mode": {
    "name": "ipython",
    "version": 3
   },
   "file_extension": ".py",
   "mimetype": "text/x-python",
   "name": "python",
   "nbconvert_exporter": "python",
   "pygments_lexer": "ipython3",
   "version": "3.7.13"
  }
 },
 "nbformat": 4,
 "nbformat_minor": 5
}
